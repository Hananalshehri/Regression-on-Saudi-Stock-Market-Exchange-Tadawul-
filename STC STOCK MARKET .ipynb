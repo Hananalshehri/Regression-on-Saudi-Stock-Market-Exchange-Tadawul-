{
 "cells": [
  {
   "cell_type": "code",
   "execution_count": 59,
   "id": "08c623a1",
   "metadata": {},
   "outputs": [],
   "source": [
    "import pandas as pd\n",
    "import matplotlib.pyplot as plt\n",
    "import numpy as np\n",
    "import seaborn as sns\n",
    "from numpy import array\n",
    "import sklearn\n",
    "%matplotlib inline\n",
    "from sklearn.metrics import mean_squared_error, mean_absolute_error\n",
    "plt.style.use(\"fivethirtyeight\")#for plots\n",
    "import os\n",
    "import warnings\n",
    "warnings.filterwarnings(\"ignore\");\n",
    "from statsmodels.tsa.arima_model import ARIMA\n",
    "from sklearn.metrics import mean_squared_error\n"
   ]
  },
  {
   "cell_type": "code",
   "execution_count": null,
   "id": "92f3dbd1",
   "metadata": {},
   "outputs": [],
   "source": []
  },
  {
   "cell_type": "code",
   "execution_count": 60,
   "id": "6bbc59e0",
   "metadata": {},
   "outputs": [],
   "source": [
    "STC=pd.read_csv(\"Equites_Historical_Adjusted_Prices_Report 2.csv\")"
   ]
  },
  {
   "cell_type": "code",
   "execution_count": 61,
   "id": "5958978f",
   "metadata": {},
   "outputs": [
    {
     "data": {
      "text/html": [
       "<div>\n",
       "<style scoped>\n",
       "    .dataframe tbody tr th:only-of-type {\n",
       "        vertical-align: middle;\n",
       "    }\n",
       "\n",
       "    .dataframe tbody tr th {\n",
       "        vertical-align: top;\n",
       "    }\n",
       "\n",
       "    .dataframe thead th {\n",
       "        text-align: right;\n",
       "    }\n",
       "</style>\n",
       "<table border=\"1\" class=\"dataframe\">\n",
       "  <thead>\n",
       "    <tr style=\"text-align: right;\">\n",
       "      <th></th>\n",
       "      <th>Date</th>\n",
       "      <th>Open</th>\n",
       "      <th>High</th>\n",
       "      <th>Low</th>\n",
       "      <th>Close</th>\n",
       "      <th>Change</th>\n",
       "      <th>% Change</th>\n",
       "      <th>Volume Traded</th>\n",
       "    </tr>\n",
       "  </thead>\n",
       "  <tbody>\n",
       "    <tr>\n",
       "      <th>0</th>\n",
       "      <td>3/11/2012</td>\n",
       "      <td>41.4</td>\n",
       "      <td>41.7</td>\n",
       "      <td>41.2</td>\n",
       "      <td>41.6</td>\n",
       "      <td>-0.1</td>\n",
       "      <td>-0.24</td>\n",
       "      <td>487410</td>\n",
       "    </tr>\n",
       "    <tr>\n",
       "      <th>1</th>\n",
       "      <td>4/11/2012</td>\n",
       "      <td>41.5</td>\n",
       "      <td>41.7</td>\n",
       "      <td>41.4</td>\n",
       "      <td>41.6</td>\n",
       "      <td>0.0</td>\n",
       "      <td>0.00</td>\n",
       "      <td>447349</td>\n",
       "    </tr>\n",
       "    <tr>\n",
       "      <th>2</th>\n",
       "      <td>5/11/2012</td>\n",
       "      <td>41.6</td>\n",
       "      <td>41.6</td>\n",
       "      <td>41.2</td>\n",
       "      <td>41.3</td>\n",
       "      <td>-0.3</td>\n",
       "      <td>-0.72</td>\n",
       "      <td>741787</td>\n",
       "    </tr>\n",
       "    <tr>\n",
       "      <th>3</th>\n",
       "      <td>6/11/2012</td>\n",
       "      <td>41.4</td>\n",
       "      <td>42.1</td>\n",
       "      <td>41.3</td>\n",
       "      <td>42.1</td>\n",
       "      <td>0.8</td>\n",
       "      <td>1.94</td>\n",
       "      <td>897098</td>\n",
       "    </tr>\n",
       "    <tr>\n",
       "      <th>4</th>\n",
       "      <td>7/11/2012</td>\n",
       "      <td>42.1</td>\n",
       "      <td>42.4</td>\n",
       "      <td>42.0</td>\n",
       "      <td>42.3</td>\n",
       "      <td>0.2</td>\n",
       "      <td>0.48</td>\n",
       "      <td>1267367</td>\n",
       "    </tr>\n",
       "  </tbody>\n",
       "</table>\n",
       "</div>"
      ],
      "text/plain": [
       "        Date  Open  High   Low  Close  Change  % Change  Volume Traded\n",
       "0  3/11/2012  41.4  41.7  41.2   41.6    -0.1     -0.24         487410\n",
       "1  4/11/2012  41.5  41.7  41.4   41.6     0.0      0.00         447349\n",
       "2  5/11/2012  41.6  41.6  41.2   41.3    -0.3     -0.72         741787\n",
       "3  6/11/2012  41.4  42.1  41.3   42.1     0.8      1.94         897098\n",
       "4  7/11/2012  42.1  42.4  42.0   42.3     0.2      0.48        1267367"
      ]
     },
     "execution_count": 61,
     "metadata": {},
     "output_type": "execute_result"
    }
   ],
   "source": [
    "STC.head()"
   ]
  },
  {
   "cell_type": "code",
   "execution_count": 62,
   "id": "1d9d22a6",
   "metadata": {},
   "outputs": [
    {
     "name": "stdout",
     "output_type": "stream",
     "text": [
      "<class 'pandas.core.frame.DataFrame'>\n",
      "RangeIndex: 2269 entries, 0 to 2268\n",
      "Data columns (total 8 columns):\n",
      " #   Column         Non-Null Count  Dtype  \n",
      "---  ------         --------------  -----  \n",
      " 0   Date           2269 non-null   object \n",
      " 1   Open           2269 non-null   float64\n",
      " 2   High           2269 non-null   float64\n",
      " 3   Low            2269 non-null   float64\n",
      " 4   Close          2269 non-null   float64\n",
      " 5   Change         2269 non-null   float64\n",
      " 6   % Change       2269 non-null   float64\n",
      " 7   Volume Traded  2269 non-null   int64  \n",
      "dtypes: float64(6), int64(1), object(1)\n",
      "memory usage: 141.9+ KB\n"
     ]
    }
   ],
   "source": [
    "STC.info()"
   ]
  },
  {
   "cell_type": "code",
   "execution_count": 63,
   "id": "e2430f28",
   "metadata": {},
   "outputs": [
    {
     "data": {
      "text/plain": [
       "Open                 78.238938\n",
       "High                 78.943764\n",
       "Low                  77.543610\n",
       "Close                78.294945\n",
       "Change                0.030516\n",
       "% Change              0.053486\n",
       "Volume Traded    789583.183781\n",
       "dtype: float64"
      ]
     },
     "execution_count": 63,
     "metadata": {},
     "output_type": "execute_result"
    }
   ],
   "source": [
    "STC.mean()"
   ]
  },
  {
   "cell_type": "code",
   "execution_count": 64,
   "id": "ea7df46c",
   "metadata": {},
   "outputs": [
    {
     "data": {
      "text/plain": [
       "Date              object\n",
       "Open             float64\n",
       "High             float64\n",
       "Low              float64\n",
       "Close            float64\n",
       "Change           float64\n",
       "% Change         float64\n",
       "Volume Traded      int64\n",
       "dtype: object"
      ]
     },
     "execution_count": 64,
     "metadata": {},
     "output_type": "execute_result"
    }
   ],
   "source": [
    "STC.dtypes"
   ]
  },
  {
   "cell_type": "code",
   "execution_count": 65,
   "id": "5571fe67",
   "metadata": {},
   "outputs": [
    {
     "data": {
      "text/plain": [
       "0   2012-03-11\n",
       "1   2012-04-11\n",
       "2   2012-05-11\n",
       "3   2012-06-11\n",
       "4   2012-07-11\n",
       "Name: Date, dtype: datetime64[ns]"
      ]
     },
     "execution_count": 65,
     "metadata": {},
     "output_type": "execute_result"
    }
   ],
   "source": [
    "STC.Date=pd.to_datetime(STC.Date)\n",
    "STC['Date'].head()"
   ]
  },
  {
   "cell_type": "code",
   "execution_count": 66,
   "id": "903a5a07",
   "metadata": {},
   "outputs": [
    {
     "data": {
      "text/html": [
       "<div>\n",
       "<style scoped>\n",
       "    .dataframe tbody tr th:only-of-type {\n",
       "        vertical-align: middle;\n",
       "    }\n",
       "\n",
       "    .dataframe tbody tr th {\n",
       "        vertical-align: top;\n",
       "    }\n",
       "\n",
       "    .dataframe thead th {\n",
       "        text-align: right;\n",
       "    }\n",
       "</style>\n",
       "<table border=\"1\" class=\"dataframe\">\n",
       "  <thead>\n",
       "    <tr style=\"text-align: right;\">\n",
       "      <th></th>\n",
       "      <th>Date</th>\n",
       "      <th>Close</th>\n",
       "    </tr>\n",
       "  </thead>\n",
       "  <tbody>\n",
       "    <tr>\n",
       "      <th>0</th>\n",
       "      <td>2012-03-11</td>\n",
       "      <td>41.6</td>\n",
       "    </tr>\n",
       "    <tr>\n",
       "      <th>1</th>\n",
       "      <td>2012-04-11</td>\n",
       "      <td>41.6</td>\n",
       "    </tr>\n",
       "    <tr>\n",
       "      <th>2</th>\n",
       "      <td>2012-05-11</td>\n",
       "      <td>41.3</td>\n",
       "    </tr>\n",
       "    <tr>\n",
       "      <th>3</th>\n",
       "      <td>2012-06-11</td>\n",
       "      <td>42.1</td>\n",
       "    </tr>\n",
       "    <tr>\n",
       "      <th>4</th>\n",
       "      <td>2012-07-11</td>\n",
       "      <td>42.3</td>\n",
       "    </tr>\n",
       "    <tr>\n",
       "      <th>...</th>\n",
       "      <td>...</td>\n",
       "      <td>...</td>\n",
       "    </tr>\n",
       "    <tr>\n",
       "      <th>2264</th>\n",
       "      <td>2021-11-24</td>\n",
       "      <td>114.0</td>\n",
       "    </tr>\n",
       "    <tr>\n",
       "      <th>2265</th>\n",
       "      <td>2021-11-25</td>\n",
       "      <td>113.0</td>\n",
       "    </tr>\n",
       "    <tr>\n",
       "      <th>2266</th>\n",
       "      <td>2021-11-28</td>\n",
       "      <td>111.6</td>\n",
       "    </tr>\n",
       "    <tr>\n",
       "      <th>2267</th>\n",
       "      <td>2021-11-29</td>\n",
       "      <td>111.0</td>\n",
       "    </tr>\n",
       "    <tr>\n",
       "      <th>2268</th>\n",
       "      <td>2021-11-30</td>\n",
       "      <td>111.0</td>\n",
       "    </tr>\n",
       "  </tbody>\n",
       "</table>\n",
       "<p>2269 rows × 2 columns</p>\n",
       "</div>"
      ],
      "text/plain": [
       "           Date  Close\n",
       "0    2012-03-11   41.6\n",
       "1    2012-04-11   41.6\n",
       "2    2012-05-11   41.3\n",
       "3    2012-06-11   42.1\n",
       "4    2012-07-11   42.3\n",
       "...         ...    ...\n",
       "2264 2021-11-24  114.0\n",
       "2265 2021-11-25  113.0\n",
       "2266 2021-11-28  111.6\n",
       "2267 2021-11-29  111.0\n",
       "2268 2021-11-30  111.0\n",
       "\n",
       "[2269 rows x 2 columns]"
      ]
     },
     "execution_count": 66,
     "metadata": {},
     "output_type": "execute_result"
    }
   ],
   "source": [
    "STC.drop(['Open','High','Low','Change','% Change','Volume Traded'], axis=1 ,inplace=True)\n",
    "STC"
   ]
  },
  {
   "cell_type": "code",
   "execution_count": 67,
   "id": "445d3af0",
   "metadata": {},
   "outputs": [
    {
     "data": {
      "text/plain": [
       "<AxesSubplot:xlabel='Date'>"
      ]
     },
     "execution_count": 67,
     "metadata": {},
     "output_type": "execute_result"
    },
    {
     "data": {
      "image/png": "[encoded data removed]",
      "text/plain": [
       "<Figure size 1440x720 with 1 Axes>"
      ]
     },
     "metadata": {},
     "output_type": "display_data"
    }
   ],
   "source": [
    "STC.plot(x=\"Date\",y=\"Close\",figsize=(20,10))\n"
   ]
  },
  {
   "cell_type": "code",
   "execution_count": 68,
   "id": "ecd33cea",
   "metadata": {},
   "outputs": [
    {
     "data": {
      "text/plain": [
       "Close    78.294945\n",
       "dtype: float64"
      ]
     },
     "execution_count": 68,
     "metadata": {},
     "output_type": "execute_result"
    }
   ],
   "source": [
    "STC.mean()"
   ]
  },
  {
   "cell_type": "code",
   "execution_count": 69,
   "id": "36be6cb0",
   "metadata": {},
   "outputs": [
    {
     "data": {
      "text/plain": [
       "True"
      ]
     },
     "execution_count": 69,
     "metadata": {},
     "output_type": "execute_result"
    }
   ],
   "source": [
    "# NO! All are unique For each day\n",
    "STC.index.is_unique\n"
   ]
  },
  {
   "cell_type": "code",
   "execution_count": 70,
   "id": "bac95ff7",
   "metadata": {},
   "outputs": [
    {
     "data": {
      "text/html": [
       "<div>\n",
       "<style scoped>\n",
       "    .dataframe tbody tr th:only-of-type {\n",
       "        vertical-align: middle;\n",
       "    }\n",
       "\n",
       "    .dataframe tbody tr th {\n",
       "        vertical-align: top;\n",
       "    }\n",
       "\n",
       "    .dataframe thead th {\n",
       "        text-align: right;\n",
       "    }\n",
       "</style>\n",
       "<table border=\"1\" class=\"dataframe\">\n",
       "  <thead>\n",
       "    <tr style=\"text-align: right;\">\n",
       "      <th></th>\n",
       "      <th>Date</th>\n",
       "      <th>Close</th>\n",
       "    </tr>\n",
       "  </thead>\n",
       "  <tbody>\n",
       "    <tr>\n",
       "      <th>0</th>\n",
       "      <td>2012-03-11</td>\n",
       "      <td>41.6</td>\n",
       "    </tr>\n",
       "    <tr>\n",
       "      <th>1</th>\n",
       "      <td>2012-04-11</td>\n",
       "      <td>41.6</td>\n",
       "    </tr>\n",
       "    <tr>\n",
       "      <th>2</th>\n",
       "      <td>2012-05-11</td>\n",
       "      <td>41.3</td>\n",
       "    </tr>\n",
       "    <tr>\n",
       "      <th>3</th>\n",
       "      <td>2012-06-11</td>\n",
       "      <td>42.1</td>\n",
       "    </tr>\n",
       "    <tr>\n",
       "      <th>4</th>\n",
       "      <td>2012-07-11</td>\n",
       "      <td>42.3</td>\n",
       "    </tr>\n",
       "  </tbody>\n",
       "</table>\n",
       "</div>"
      ],
      "text/plain": [
       "        Date  Close\n",
       "0 2012-03-11   41.6\n",
       "1 2012-04-11   41.6\n",
       "2 2012-05-11   41.3\n",
       "3 2012-06-11   42.1\n",
       "4 2012-07-11   42.3"
      ]
     },
     "execution_count": 70,
     "metadata": {},
     "output_type": "execute_result"
    }
   ],
   "source": [
    "#to be organazation day by day \n",
    "STC.sort_index(ascending = True).head()\n"
   ]
  },
  {
   "cell_type": "code",
   "execution_count": 71,
   "id": "1122ea2c",
   "metadata": {},
   "outputs": [
    {
     "data": {
      "text/html": [
       "<div>\n",
       "<style scoped>\n",
       "    .dataframe tbody tr th:only-of-type {\n",
       "        vertical-align: middle;\n",
       "    }\n",
       "\n",
       "    .dataframe tbody tr th {\n",
       "        vertical-align: top;\n",
       "    }\n",
       "\n",
       "    .dataframe thead th {\n",
       "        text-align: right;\n",
       "    }\n",
       "</style>\n",
       "<table border=\"1\" class=\"dataframe\">\n",
       "  <thead>\n",
       "    <tr style=\"text-align: right;\">\n",
       "      <th></th>\n",
       "      <th>Close</th>\n",
       "    </tr>\n",
       "    <tr>\n",
       "      <th>Date</th>\n",
       "      <th></th>\n",
       "    </tr>\n",
       "  </thead>\n",
       "  <tbody>\n",
       "    <tr>\n",
       "      <th>2012-03-11</th>\n",
       "      <td>41.6</td>\n",
       "    </tr>\n",
       "    <tr>\n",
       "      <th>2012-04-11</th>\n",
       "      <td>41.6</td>\n",
       "    </tr>\n",
       "    <tr>\n",
       "      <th>2012-05-11</th>\n",
       "      <td>41.3</td>\n",
       "    </tr>\n",
       "    <tr>\n",
       "      <th>2012-06-11</th>\n",
       "      <td>42.1</td>\n",
       "    </tr>\n",
       "    <tr>\n",
       "      <th>2012-07-11</th>\n",
       "      <td>42.3</td>\n",
       "    </tr>\n",
       "  </tbody>\n",
       "</table>\n",
       "</div>"
      ],
      "text/plain": [
       "            Close\n",
       "Date             \n",
       "2012-03-11   41.6\n",
       "2012-04-11   41.6\n",
       "2012-05-11   41.3\n",
       "2012-06-11   42.1\n",
       "2012-07-11   42.3"
      ]
     },
     "execution_count": 71,
     "metadata": {},
     "output_type": "execute_result"
    }
   ],
   "source": [
    "STC=STC.set_index('Date')\n",
    "STC.head()"
   ]
  },
  {
   "cell_type": "code",
   "execution_count": 72,
   "id": "2deef55a",
   "metadata": {},
   "outputs": [
    {
     "data": {
      "text/html": [
       "<div>\n",
       "<style scoped>\n",
       "    .dataframe tbody tr th:only-of-type {\n",
       "        vertical-align: middle;\n",
       "    }\n",
       "\n",
       "    .dataframe tbody tr th {\n",
       "        vertical-align: top;\n",
       "    }\n",
       "\n",
       "    .dataframe thead th {\n",
       "        text-align: right;\n",
       "    }\n",
       "</style>\n",
       "<table border=\"1\" class=\"dataframe\">\n",
       "  <thead>\n",
       "    <tr style=\"text-align: right;\">\n",
       "      <th></th>\n",
       "      <th>Close</th>\n",
       "    </tr>\n",
       "    <tr>\n",
       "      <th>Date</th>\n",
       "      <th></th>\n",
       "    </tr>\n",
       "  </thead>\n",
       "  <tbody>\n",
       "    <tr>\n",
       "      <th>2012-01-31</th>\n",
       "      <td>41.000000</td>\n",
       "    </tr>\n",
       "    <tr>\n",
       "      <th>2012-02-29</th>\n",
       "      <td>40.900000</td>\n",
       "    </tr>\n",
       "    <tr>\n",
       "      <th>2012-03-30</th>\n",
       "      <td>41.200000</td>\n",
       "    </tr>\n",
       "    <tr>\n",
       "      <th>2012-04-30</th>\n",
       "      <td>41.300000</td>\n",
       "    </tr>\n",
       "    <tr>\n",
       "      <th>2012-05-31</th>\n",
       "      <td>41.100000</td>\n",
       "    </tr>\n",
       "    <tr>\n",
       "      <th>...</th>\n",
       "      <td>...</td>\n",
       "    </tr>\n",
       "    <tr>\n",
       "      <th>2021-08-31</th>\n",
       "      <td>129.733333</td>\n",
       "    </tr>\n",
       "    <tr>\n",
       "      <th>2021-09-30</th>\n",
       "      <td>128.320000</td>\n",
       "    </tr>\n",
       "    <tr>\n",
       "      <th>2021-10-29</th>\n",
       "      <td>119.200000</td>\n",
       "    </tr>\n",
       "    <tr>\n",
       "      <th>2021-11-30</th>\n",
       "      <td>116.381818</td>\n",
       "    </tr>\n",
       "    <tr>\n",
       "      <th>2021-12-31</th>\n",
       "      <td>124.700000</td>\n",
       "    </tr>\n",
       "  </tbody>\n",
       "</table>\n",
       "<p>120 rows × 1 columns</p>\n",
       "</div>"
      ],
      "text/plain": [
       "                 Close\n",
       "Date                  \n",
       "2012-01-31   41.000000\n",
       "2012-02-29   40.900000\n",
       "2012-03-30   41.200000\n",
       "2012-04-30   41.300000\n",
       "2012-05-31   41.100000\n",
       "...                ...\n",
       "2021-08-31  129.733333\n",
       "2021-09-30  128.320000\n",
       "2021-10-29  119.200000\n",
       "2021-11-30  116.381818\n",
       "2021-12-31  124.700000\n",
       "\n",
       "[120 rows x 1 columns]"
      ]
     },
     "execution_count": 72,
     "metadata": {},
     "output_type": "execute_result"
    }
   ],
   "source": [
    "# the best #of close through a month\n",
    "STC_month = STC.resample('BM').mean()\n",
    "\n",
    "STC_month"
   ]
  },
  {
   "cell_type": "code",
   "execution_count": 73,
   "id": "c17a1c86",
   "metadata": {},
   "outputs": [
    {
     "data": {
      "image/png": "[encoded data removed]",
      "text/plain": [
       "<Figure size 432x288 with 1 Axes>"
      ]
     },
     "metadata": {},
     "output_type": "display_data"
    }
   ],
   "source": [
    "STC_ma =STC.rolling(window=9).mean()\n",
    "STC_ma.plot(plt.style.use('Solarize_Light2')) \n",
    "figsize=(20,10)"
   ]
  },
  {
   "cell_type": "markdown",
   "id": "02e58336",
   "metadata": {},
   "source": [
    "# Treing & Teasting"
   ]
  },
  {
   "cell_type": "code",
   "execution_count": 74,
   "id": "2ddac786",
   "metadata": {},
   "outputs": [
    {
     "name": "stdout",
     "output_type": "stream",
     "text": [
      "Observations: 2269\n",
      "Training Observations: 0\n",
      "Testing Observations: 2269\n"
     ]
    }
   ],
   "source": [
    "X = STC.values\n",
    "train_size = int(len(X) * 0.)\n",
    "train, test = X[0:train_size], X[train_size:len(X)]\n",
    "print('Observations: %d' % (len(X)))\n",
    "print('Training Observations: %d' % (len(train)))\n",
    "print('Testing Observations: %d' % (len(test)))"
   ]
  },
  {
   "cell_type": "code",
   "execution_count": 75,
   "id": "b4e79c1e",
   "metadata": {},
   "outputs": [
    {
     "name": "stdout",
     "output_type": "stream",
     "text": [
      "            Close\n",
      "Date             \n",
      "2012-03-11   41.6\n",
      "2012-04-11   41.6\n",
      "2012-05-11   41.3\n",
      "2012-06-11   42.1\n",
      "2012-07-11   42.3\n",
      "...           ...\n",
      "2020-12-28  105.0\n",
      "2020-12-29  106.0\n",
      "2020-12-30  106.8\n",
      "2020-12-31  106.0\n",
      "2021-03-01  106.0\n",
      "\n",
      "[2042 rows x 1 columns]             Close\n",
      "Date             \n",
      "2021-05-01  107.2\n",
      "2021-06-01  107.0\n",
      "2021-07-01  108.8\n",
      "2021-10-01  109.6\n",
      "2021-11-01  111.0\n",
      "...           ...\n",
      "2021-10-06  134.4\n",
      "2021-06-13  139.2\n",
      "2021-06-14  137.0\n",
      "2021-06-15  133.8\n",
      "2021-06-16  132.2\n",
      "\n",
      "[113 rows x 1 columns]             Close\n",
      "Date             \n",
      "2021-06-20  132.4\n",
      "2021-06-21  133.6\n",
      "2021-06-22  132.8\n",
      "2021-06-23  130.4\n",
      "2021-06-24  131.0\n",
      "...           ...\n",
      "2021-11-24  114.0\n",
      "2021-11-25  113.0\n",
      "2021-11-28  111.6\n",
      "2021-11-29  111.0\n",
      "2021-11-30  111.0\n",
      "\n",
      "[112 rows x 1 columns]\n"
     ]
    }
   ],
   "source": [
    "STC_Train=STC[0:2042]\n",
    "STC_Validate=STC[2043:2156]\n",
    "STC_Test=STC[2157:2269]\n",
    "print(STC_Train,STC_Validate,STC_Test)"
   ]
  },
  {
   "cell_type": "code",
   "execution_count": 76,
   "id": "ac1a154c",
   "metadata": {},
   "outputs": [
    {
     "name": "stdout",
     "output_type": "stream",
     "text": [
      "the size of the traing set size is  (2042, 1)\n",
      "the size of the validate set size is  (113, 1)\n",
      "the size of the training set size is  (112, 1)\n"
     ]
    }
   ],
   "source": [
    "print(f\"the size of the traing set size is \",STC_Train.shape)\n",
    "print(f\"the size of the validate set size is \",STC_Validate.shape)\n",
    "print(f\"the size of the training set size is \",STC_Test.shape)"
   ]
  },
  {
   "cell_type": "code",
   "execution_count": 77,
   "id": "e7809bc1",
   "metadata": {},
   "outputs": [
    {
     "name": "stdout",
     "output_type": "stream",
     "text": [
      "0.13586329539593753\n",
      "13.404291565150471\n"
     ]
    }
   ],
   "source": [
    "from sklearn.metrics import mean_squared_error, mean_absolute_error\n",
    "import sklearn.metrics as metrics\n",
    "model=ARIMA(STC_Train, order=(0,1,2))\n",
    "result = model.fit()\n",
    "#print result\n",
    "start=1\n",
    "end=len(STC_Train)\n",
    "pred=result.predict(start=start,end=end,typ='levels')\n",
    "#print pred\n",
    "x=np.sqrt(metrics.mean_squared_error(STC_Train,pred))\n",
    "\n",
    "start=len(STC_Train)\n",
    "end=len(STC_Train)+len(STC_Validate)-1\n",
    "pred=result.predict(start=start,end=end,typ='levels')\n",
    "#print pred\n",
    "y=np.sqrt(metrics.mean_squared_error(STC_Validate,pred))\n",
    "print(x)\n",
    "print(y)"
   ]
  },
  {
   "cell_type": "code",
   "execution_count": 78,
   "id": "52513109",
   "metadata": {},
   "outputs": [
    {
     "name": "stdout",
     "output_type": "stream",
     "text": [
      "0.14200926835813418\n",
      "13.444469014483758\n"
     ]
    }
   ],
   "source": [
    "from sklearn.metrics import mean_squared_error, mean_absolute_error\n",
    "import sklearn.metrics as metrics\n",
    "model=ARIMA(STC_Train, order=(5,1,1))\n",
    "result = model.fit()\n",
    "#print result\n",
    "start=1\n",
    "end=len(STC_Train)\n",
    "pred=result.predict(start=start,end=end,typ='levels')\n",
    "#print pred\n",
    "x=np.sqrt(metrics.mean_squared_error(STC_Train,pred))\n",
    "\n",
    "start=len(STC_Train)\n",
    "end=len(STC_Train)+len(STC_Validate)-1\n",
    "pred=result.predict(start=start,end=end,typ='levels')\n",
    "#print pred\n",
    "y=np.sqrt(metrics.mean_squared_error(STC_Validate,pred))\n",
    "print(x)\n",
    "print(y)"
   ]
  },
  {
   "cell_type": "code",
   "execution_count": 79,
   "id": "10065f31",
   "metadata": {},
   "outputs": [
    {
     "name": "stdout",
     "output_type": "stream",
     "text": [
      "0.14696498211650214\n",
      "13.34170867890568\n"
     ]
    }
   ],
   "source": [
    "from sklearn.metrics import mean_squared_error, mean_absolute_error\n",
    "import sklearn.metrics as metrics\n",
    "model=ARIMA(STC_Train, order=(1,1,2))\n",
    "result = model.fit()\n",
    "#print result\n",
    "start=1\n",
    "end=len(STC_Train)\n",
    "pred=result.predict(start=start,end=end,typ='levels')\n",
    "#print pred\n",
    "x=np.sqrt(metrics.mean_squared_error(STC_Train,pred))\n",
    "\n",
    "start=len(STC_Train)\n",
    "end=len(STC_Train)+len(STC_Validate)-1\n",
    "pred=result.predict(start=start,end=end,typ='levels')\n",
    "#print pred\n",
    "y=np.sqrt(metrics.mean_squared_error(STC_Validate,pred))\n",
    "print(x)\n",
    "print(y)"
   ]
  },
  {
   "cell_type": "code",
   "execution_count": 80,
   "id": "74b3862a",
   "metadata": {},
   "outputs": [
    {
     "name": "stdout",
     "output_type": "stream",
     "text": [
      "0.1385040799095382\n",
      "13.429268365289664\n"
     ]
    }
   ],
   "source": [
    "from sklearn.metrics import mean_squared_error, mean_absolute_error\n",
    "import sklearn.metrics as metrics\n",
    "model=ARIMA(STC_Train, order=(2,1,2))\n",
    "result = model.fit()\n",
    "#print result\n",
    "start=1\n",
    "end=len(STC_Train)\n",
    "pred=result.predict(start=start,end=end,typ='levels')\n",
    "#print pred\n",
    "x=np.sqrt(metrics.mean_squared_error(STC_Train,pred))\n",
    "\n",
    "start=len(STC_Train)\n",
    "end=len(STC_Train)+len(STC_Validate)-1\n",
    "pred=result.predict(start=start,end=end,typ='levels')\n",
    "#print pred\n",
    "y=np.sqrt(metrics.mean_squared_error(STC_Validate,pred))\n",
    "print(x)\n",
    "print(y)"
   ]
  },
  {
   "cell_type": "code",
   "execution_count": 81,
   "id": "f40d2254",
   "metadata": {},
   "outputs": [
    {
     "name": "stdout",
     "output_type": "stream",
     "text": [
      "0.15158994877695897\n",
      "13.346283536784881\n"
     ]
    }
   ],
   "source": [
    "from sklearn.metrics import mean_squared_error, mean_absolute_error\n",
    "import sklearn.metrics as metrics\n",
    "model=ARIMA(STC_Train, order=(3,1,2))\n",
    "result = model.fit()\n",
    "#print result\n",
    "start=1\n",
    "end=len(STC_Train)\n",
    "pred=result.predict(start=start,end=end,typ='levels')\n",
    "#print pred\n",
    "x=np.sqrt(metrics.mean_squared_error(STC_Train,pred))\n",
    "\n",
    "start=len(STC_Train)\n",
    "end=len(STC_Train)+len(STC_Validate)-1\n",
    "pred=result.predict(start=start,end=end,typ='levels')\n",
    "#print pred\n",
    "y=np.sqrt(metrics.mean_squared_error(STC_Validate,pred))\n",
    "print(x)\n",
    "print(y)"
   ]
  },
  {
   "cell_type": "code",
   "execution_count": 82,
   "id": "26d5a56b",
   "metadata": {},
   "outputs": [
    {
     "name": "stdout",
     "output_type": "stream",
     "text": [
      "0.03155316021558008\n",
      "13.443131014782603\n"
     ]
    }
   ],
   "source": [
    "from sklearn.metrics import mean_squared_error, mean_absolute_error\n",
    "import sklearn.metrics as metrics\n",
    "model=ARIMA(STC_Train, order=(0,1,0))\n",
    "result = model.fit()\n",
    "#print result\n",
    "start=1\n",
    "end=len(STC_Train)\n",
    "pred=result.predict(start=start,end=end,typ='levels')\n",
    "#print pred\n",
    "x=np.sqrt(metrics.mean_squared_error(STC_Train,pred))\n",
    "\n",
    "start=len(STC_Train)\n",
    "end=len(STC_Train)+len(STC_Validate)-1\n",
    "pred=result.predict(start=start,end=end,typ='levels')\n",
    "#print pred\n",
    "y=np.sqrt(metrics.mean_squared_error(STC_Validate,pred))\n",
    "print(x)\n",
    "print(y)"
   ]
  },
  {
   "cell_type": "code",
   "execution_count": 83,
   "id": "cca10520",
   "metadata": {},
   "outputs": [
    {
     "name": "stdout",
     "output_type": "stream",
     "text": [
      "0.13693820945091933\n",
      "13.415027091372258\n"
     ]
    }
   ],
   "source": [
    "from sklearn.metrics import mean_squared_error, mean_absolute_error\n",
    "import sklearn.metrics as metrics\n",
    "model=ARIMA(STC_Train, order=(1,1,1))\n",
    "result = model.fit()\n",
    "#print result\n",
    "start=1\n",
    "end=len(STC_Train)\n",
    "pred=result.predict(start=start,end=end,typ='levels')\n",
    "#print pred\n",
    "x=np.sqrt(metrics.mean_squared_error(STC_Train,pred))\n",
    "\n",
    "start=len(STC_Train)\n",
    "end=len(STC_Train)+len(STC_Validate)-1\n",
    "pred=result.predict(start=start,end=end,typ='levels')\n",
    "#print pred\n",
    "y=np.sqrt(metrics.mean_squared_error(STC_Validate,pred))\n",
    "print(x)\n",
    "print(y)"
   ]
  },
  {
   "cell_type": "code",
   "execution_count": 84,
   "id": "430f5a49",
   "metadata": {},
   "outputs": [
    {
     "name": "stdout",
     "output_type": "stream",
     "text": [
      "mean1=59.926614, mean2=96.647093\n",
      "variance1=119.746434, variance2=324.923088\n"
     ]
    }
   ],
   "source": [
    "#we can split the time series into two contiguous sequences. \n",
    "#We can then calculate the mean and variance of each group of numbers and compare the values.\n",
    "X = STC.values\n",
    "split = round(len(X) / 2)\n",
    "X1, X2 = X[0:split], X[split:]\n",
    "mean1, mean2 = X1.mean(), X2.mean()\n",
    "var1, var2 = X1.var(), X2.var()\n",
    "print('mean1=%f, mean2=%f' % (mean1, mean2))\n",
    "print('variance1=%f, variance2=%f' % (var1, var2))"
   ]
  },
  {
   "cell_type": "code",
   "execution_count": 85,
   "id": "3b59bfd2",
   "metadata": {},
   "outputs": [],
   "source": [
    "#Running this example shows that the mean and variance values are different, but in the same ball-park^^^"
   ]
  },
  {
   "cell_type": "code",
   "execution_count": 86,
   "id": "22e7ec10",
   "metadata": {},
   "outputs": [
    {
     "data": {
      "image/png": "[encoded data removed]",
      "text/plain": [
       "<Figure size 432x288 with 1 Axes>"
      ]
     },
     "metadata": {},
     "output_type": "display_data"
    }
   ],
   "source": [
    "#Let’s check if assuming a Gaussian distribution makes sense\n",
    "#in this case by plotting the values of the time series as a histogram.\n",
    "from matplotlib import pyplot\n",
    "STC.hist()\n",
    "pyplot.show()"
   ]
  },
  {
   "cell_type": "code",
   "execution_count": 87,
   "id": "bc271b16",
   "metadata": {},
   "outputs": [
    {
     "data": {
      "image/png": "[encoded data removed]",
      "text/plain": [
       "<Figure size 432x288 with 1 Axes>"
      ]
     },
     "metadata": {},
     "output_type": "display_data"
    },
    {
     "data": {
      "image/png": "[encoded data removed]",
      "text/plain": [
       "<Figure size 432x288 with 1 Axes>"
      ]
     },
     "metadata": {},
     "output_type": "display_data"
    }
   ],
   "source": [
    "from numpy import log\n",
    "X = STC.values\n",
    "X = log(X)\n",
    "pyplot.hist(X)\n",
    "pyplot.show()\n",
    "pyplot.plot(X)\n",
    "pyplot.show()"
   ]
  },
  {
   "cell_type": "code",
   "execution_count": 88,
   "id": "4a02aec3",
   "metadata": {},
   "outputs": [],
   "source": [
    "#We can now calculate the mean and standard deviation of the values of the log transformed dataset."
   ]
  },
  {
   "cell_type": "code",
   "execution_count": 89,
   "id": "c818630f",
   "metadata": {},
   "outputs": [
    {
     "name": "stdout",
     "output_type": "stream",
     "text": [
      "mean1=4.073938, mean2=4.553521\n",
      "variance1=0.041176, variance2=0.035384\n"
     ]
    }
   ],
   "source": [
    "X = STC.values\n",
    "X = log(X)\n",
    "split = round(len(X) / 2)\n",
    "X1, X2 = X[0:split], X[split:]\n",
    "mean1, mean2 = X1.mean(), X2.mean()\n",
    "var1, var2 = X1.var(), X2.var()\n",
    "print('mean1=%f, mean2=%f' % (mean1, mean2))\n",
    "print('variance1=%f, variance2=%f' % (var1, var2))"
   ]
  }
 ],
 "metadata": {
  "kernelspec": {
   "display_name": "Python 3",
   "language": "python",
   "name": "python3"
  },
  "language_info": {
   "codemirror_mode": {
    "name": "ipython",
    "version": 3
   },
   "file_extension": ".py",
   "mimetype": "text/x-python",
   "name": "python",
   "nbconvert_exporter": "python",
   "pygments_lexer": "ipython3",
   "version": "3.8.8"
  }
 },
 "nbformat": 4,
 "nbformat_minor": 5
}
